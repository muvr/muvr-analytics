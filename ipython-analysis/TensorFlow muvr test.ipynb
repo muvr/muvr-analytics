{
 "cells": [
  {
   "cell_type": "code",
   "execution_count": 1,
   "metadata": {
    "collapsed": false
   },
   "outputs": [],
   "source": [
    "%matplotlib inline\n",
    "%load_ext autoreload\n",
    "%autoreload 2\n",
    "\n",
    "import tensorflow as tf\n",
    "\n",
    "import shutil\n",
    "import numpy as np\n",
    "from os import remove\n",
    "import cPickle as pkl\n",
    "from os.path import expanduser, exists\n",
    "import os\n",
    "import sys\n",
    "import logging\n",
    "\n",
    "logging.basicConfig(level=10)\n",
    "logger = logging.getLogger()\n",
    "\n",
    "# Add the mlp python src director to the import search path\n",
    "mlp_folder = \"../mlp\"\n",
    "sys.path.append(os.path.abspath(mlp_folder))"
   ]
  },
  {
   "cell_type": "code",
   "execution_count": 2,
   "metadata": {
    "collapsed": false
   },
   "outputs": [
    {
     "name": "stderr",
     "output_type": "stream",
     "text": [
      "WARNING:training.SignalAugmenter:Dropped an example because it was to short. Length: 91 Expected: 400\n"
     ]
    }
   ],
   "source": [
    "from training.acceleration_dataset import CSVAccelerationDataset\n",
    "from google_tensorflow.dataset import DataSet\n",
    "                                            \n",
    "csvds = CSVAccelerationDataset('datasets/combined/18-09-15-triceps-biceps-lateral.zip')\n",
    "\n",
    "class DataSets(object):\n",
    "    pass\n",
    "\n",
    "data_sets = DataSets()\n",
    "\n",
    "data_sets.train = DataSet(csvds.X_train, csvds.y_train)\n",
    "data_sets.validation = DataSet(csvds.X_test, csvds.y_test)\n",
    "data_sets.test = DataSet(csvds.X_test, csvds.y_test)"
   ]
  },
  {
   "cell_type": "code",
   "execution_count": 3,
   "metadata": {
    "collapsed": false
   },
   "outputs": [
    {
     "name": "stdout",
     "output_type": "stream",
     "text": [
      "/Users/tombocklisch/Documents/Cake/muvr/muvr-analytics/ipython-analysis/tensorflow\n",
      "loss:  xentropy_mean\n",
      "Step 0: loss = 1.11 (0.031 sec)\n",
      "Step 100: loss = 0.78 (0.006 sec)\n",
      "Step 200: loss = 0.42 (0.008 sec)\n",
      "Step 300: loss = 0.55 (0.006 sec)\n",
      "Step 400: loss = 0.08 (0.006 sec)\n",
      "Step 500: loss = 0.16 (0.006 sec)\n",
      "Step 600: loss = 0.04 (0.006 sec)\n",
      "Step 700: loss = 0.03 (0.007 sec)\n",
      "Step 800: loss = 0.04 (0.008 sec)\n",
      "Step 900: loss = 0.02 (0.007 sec)\n",
      "Training Data Eval:\n",
      "  Num examples: 6870  Num correct: 6732  Precision @ 1: 0.9799\n",
      "Validation Data Eval:\n",
      "  Num examples: 1980  Num correct: 1980  Precision @ 1: 1.0000\n",
      "Test Data Eval:\n",
      "  Num examples: 1980  Num correct: 1980  Precision @ 1: 1.0000\n",
      "Step 1000: loss = 0.11 (0.015 sec)\n",
      "Step 1100: loss = 0.03 (0.006 sec)\n",
      "Step 1200: loss = 0.02 (0.007 sec)\n",
      "Step 1300: loss = 0.02 (0.007 sec)\n",
      "Step 1400: loss = 0.02 (0.006 sec)\n",
      "Step 1500: loss = 0.17 (0.007 sec)\n",
      "Step 1600: loss = 0.15 (0.009 sec)\n",
      "Step 1700: loss = 0.02 (0.010 sec)\n",
      "Step 1800: loss = 0.02 (0.008 sec)\n",
      "Step 1900: loss = 0.46 (0.009 sec)\n",
      "Training Data Eval:\n",
      "  Num examples: 6870  Num correct: 6738  Precision @ 1: 0.9808\n",
      "Validation Data Eval:\n",
      "  Num examples: 1980  Num correct: 1980  Precision @ 1: 1.0000\n",
      "Test Data Eval:\n",
      "  Num examples: 1980  Num correct: 1980  Precision @ 1: 1.0000\n"
     ]
    }
   ],
   "source": [
    "from google_tensorflow.mlp import run_training\n",
    "\n",
    "run_training(data_sets)"
   ]
  },
  {
   "cell_type": "code",
   "execution_count": null,
   "metadata": {
    "collapsed": false
   },
   "outputs": [],
   "source": [
    "%tb"
   ]
  },
  {
   "cell_type": "code",
   "execution_count": null,
   "metadata": {
    "collapsed": false
   },
   "outputs": [],
   "source": [
    "tf.app.run()"
   ]
  },
  {
   "cell_type": "code",
   "execution_count": null,
   "metadata": {
    "collapsed": true
   },
   "outputs": [],
   "source": []
  }
 ],
 "metadata": {
  "kernelspec": {
   "display_name": "Python 2",
   "language": "python",
   "name": "python2"
  },
  "language_info": {
   "codemirror_mode": {
    "name": "ipython",
    "version": 2
   },
   "file_extension": ".py",
   "mimetype": "text/x-python",
   "name": "python",
   "nbconvert_exporter": "python",
   "pygments_lexer": "ipython2",
   "version": "2.7.6"
  }
 },
 "nbformat": 4,
 "nbformat_minor": 0
}
