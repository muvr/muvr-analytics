{
 "cells": [
  {
   "cell_type": "code",
   "execution_count": 5,
   "metadata": {
    "collapsed": false
   },
   "outputs": [],
   "source": [
    "import csv\n",
    "import os\n",
    "\n",
    "filename = \"/Users/tombocklisch/Documents/Cake/muvr/muvr-training-data/combined/09-09-15-activity-slacking/labeled_exercise_data_f400_TEST.csv\"\n",
    "out = \"/Users/tombocklisch/Documents/Cake/muvr/muvr-training-data/combined/09-09-15-activity-slacking/test/\"\n",
    "\n",
    "\"\"\"Load a single example from a CSV file.\"\"\"\n",
    "with open(filename, 'rb') as csvfile:\n",
    "    dialect = csv.Sniffer().sniff(csvfile.read(1024))\n",
    "    csvfile.seek(0)\n",
    "    next(csvfile, None)  # skip the headers\n",
    "    csv_data = csv.reader(csvfile, dialect)\n",
    "    for i, row in enumerate(csv_data):\n",
    "        with open(out + \"test\"+str(i)+\".csv\", \"wb\") as outfile:       \n",
    "            writer = csv.writer(outfile)\n",
    "            label = \"exercising\" if row[0] == \"1\" else \"slacking\"\n",
    "            for j in range(0,400):\n",
    "                outrow = [\"-\", label, (float(row[j+1]) - 0.5)* 8000 , (float(row[j+401]) - 0.5)* 8000, (float(row[j+801]) - 0.5)* 8000]\n",
    "                writer.writerow(outrow)"
   ]
  },
  {
   "cell_type": "code",
   "execution_count": 7,
   "metadata": {
    "collapsed": false
   },
   "outputs": [
    {
     "data": {
      "text/plain": [
       "[1, 2, 3, 4, 5, 6, 7, 8, 9]"
      ]
     },
     "execution_count": 7,
     "metadata": {},
     "output_type": "execute_result"
    }
   ],
   "source": [
    "range(1,10)"
   ]
  },
  {
   "cell_type": "code",
   "execution_count": null,
   "metadata": {
    "collapsed": true
   },
   "outputs": [],
   "source": []
  }
 ],
 "metadata": {
  "kernelspec": {
   "display_name": "Python 2",
   "language": "python",
   "name": "python2"
  },
  "language_info": {
   "codemirror_mode": {
    "name": "ipython",
    "version": 2
   },
   "file_extension": ".py",
   "mimetype": "text/x-python",
   "name": "python",
   "nbconvert_exporter": "python",
   "pygments_lexer": "ipython2",
   "version": "2.7.6"
  }
 },
 "nbformat": 4,
 "nbformat_minor": 0
}
